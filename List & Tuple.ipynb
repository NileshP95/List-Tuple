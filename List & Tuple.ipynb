{
 "cells": [
  {
   "cell_type": "code",
   "execution_count": 28,
   "id": "2af07e14",
   "metadata": {},
   "outputs": [
    {
     "name": "stdout",
     "output_type": "stream",
     "text": [
      "Given list: [(2, 5), (1, 2), (4, 4), (2, 3), (2, 1)]\n",
      "Expected list: [(2, 1), (1, 2), (2, 3), (4, 4), (2, 5)]\n"
     ]
    }
   ],
   "source": [
    "Given =  [(2, 5), (1, 2), (4, 4), (2, 3), (2, 1)]\n",
    "list1 = []\n",
    "list2 = []\n",
    "for t in Given:\n",
    "    list1.append(t[1],)\n",
    "list1.sort()\n",
    "#print(list1)\n",
    "\n",
    "for l in list1:\n",
    "    for q in Given:\n",
    "        if l == int(q[1],):\n",
    "            list2.append(q)\n",
    "#list2.sort()\n",
    "print(\"Given list:\",Given)\n",
    "print(\"Expected list:\",list2)"
   ]
  },
  {
   "cell_type": "code",
   "execution_count": null,
   "id": "b7cefec8",
   "metadata": {},
   "outputs": [],
   "source": []
  }
 ],
 "metadata": {
  "kernelspec": {
   "display_name": "Python 3 (ipykernel)",
   "language": "python",
   "name": "python3"
  },
  "language_info": {
   "codemirror_mode": {
    "name": "ipython",
    "version": 3
   },
   "file_extension": ".py",
   "mimetype": "text/x-python",
   "name": "python",
   "nbconvert_exporter": "python",
   "pygments_lexer": "ipython3",
   "version": "3.8.10"
  }
 },
 "nbformat": 4,
 "nbformat_minor": 5
}
